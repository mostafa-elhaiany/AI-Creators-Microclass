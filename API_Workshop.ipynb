{
  "cells": [
    {
      "cell_type": "markdown",
      "metadata": {
        "id": "OwC3wLRJUiuD"
      },
      "source": [
        "# **API Basics**\n",
        "This notebook is for the hands-on portion of API basics\n",
        "\n",
        "In this practical tutorial, we will put the theoretical knowledge we've gained from the previous presentation into action. We'll explore how to interact with APIs, send requests, and receive responses.\n",
        "\n",
        "\n",
        "### Why This Hands-On Session?\n",
        "\n",
        "In the theoretical part of our workshop, we discussed the significance of Application Programming Interfaces (APIs) and their versatile use cases in modern software development. Now, it's time to take that knowledge and apply it practically.\n",
        "\n",
        "This hands-on session is designed to:\n",
        "\n",
        "- Help you gain a better understanding of how APIs work.\n",
        "- Familiarize you with real-world API examples.\n",
        "- Equip you with the skills to interact with APIs in your own projects.\n",
        "- Provide you with a practical foundation for integrating APIs into your applications.\n",
        "\n",
        "### Goals of the Tutorial\n",
        "\n",
        "By the end of this hands-on tutorial, you should be able to:\n",
        "\n",
        "1. Understand the basics of making API requests and receiving responses.\n",
        "2. Use Python and the `requests` library to interact with APIs.\n",
        "3. Explore and interact with real APIs to retrieve data.\n",
        "4. Gain practical experience in working with API endpoints and handling responses.\n",
        "\n",
        "## Tutorial Outline\n",
        "\n",
        "To achieve our goals, we will follow a structured approach:\n",
        "\n",
        "1. **Setup and Environment**: We'll ensure you have the necessary tools and environment set up for working with APIs.\n",
        "\n",
        "2. **Basic API Requests**: We'll begin with the fundamentals of making API requests using the Python `requests` library.\n",
        "\n",
        "3. **Exploring a Public API**: We'll take a closer look at a real, publicly accessible API and demonstrate how to use it.\n",
        "\n",
        "4. **Practical Use Cases**: We'll explore practical use cases for APIs, such as retrieving weather data, accessing a geographical API, or fetching data from a social media platform.\n",
        "\n",
        "5. **Using the OpenAi API**: we'll explore the use of openAI to create a chat application with GPT\n",
        "\n",
        "6. **Q&A and Further Assistance**: We'll conclude the tutorial with an open Q&A session and provide resources for further assistance.\n",
        "\n",
        "Now, let's get started!"
      ]
    },
    {
      "cell_type": "code",
      "execution_count": null,
      "metadata": {
        "id": "om_5mhTIVeQa"
      },
      "outputs": [],
      "source": [
        "# step 1 is usually installation of libraries. If you're working on a personal setup you might need to make sure to install required libraries.\n",
        "# google colab already has most libraries needed installed for you\n",
        "\n",
        "# step 2: importing libraries. This basically means we can use code implemented by someone else\n",
        "import requests # The 'requests' library allows us to make HTTP requests to interact with APIs.\n"
      ]
    },
    {
      "cell_type": "markdown",
      "metadata": {
        "id": "vh6bMTbEWfjA"
      },
      "source": [
        "# Section 2: API Requests\n",
        "\n",
        "In this section, we'll delve into the practical aspects of making API requests and handling API responses. Before we dive into the code, let's explore some fundamental concepts related to HTTP requests and response formats.\n",
        "\n",
        "## Understanding HTTP Requests\n",
        "\n",
        "When interacting with an API, you'll typically use HTTP (Hypertext Transfer Protocol) requests to communicate with the server. HTTP requests come in several types, but the most common ones are:\n",
        "\n",
        "- **GET**: Used to retrieve data from the server. You send a GET request when you want to fetch information from an API, such as retrieving weather data for a specific location.\n",
        "\n",
        "- **POST**: Used to send data to the server for processing. You send a POST request when, for example, you're submitting a form on a website or creating a new resource through an API.\n",
        "\n",
        "- **PUT**: Used to update an existing resource on the server. You send a PUT request when you want to modify information, like updating a user's profile.\n",
        "\n",
        "- **DELETE**: Used to request the removal of a resource from the server. You send a DELETE request when you want to delete a record, such as removing a specific item from a database.\n",
        "\n",
        "## Common Response Formats\n",
        "\n",
        "When you make an API request, the server sends a response back to your application. API responses are typically formatted in a standardized way to ensure easy data exchange. The most common response formats include:\n",
        "\n",
        "- **JSON (JavaScript Object Notation)**: JSON is a lightweight, text-based format used to transmit data between a server and a client. It's human-readable and easy to parse, making it a popular choice for APIs.\n",
        "\n",
        "- **XML (eXtensible Markup Language)**: XML is another text-based format that's used for data interchange. It's more verbose than JSON and has its own set of rules and tags for defining data structures.\n",
        "\n",
        "- **HTML (Hypertext Markup Language)**: HTML is mainly used for web content and rendering web pages. It can also be used for data exchange in certain cases, though it's less common for API responses.\n",
        "\n",
        "In this section, we'll primarily work with JSON responses, as it's the most prevalent and user-friendly format for API interactions. We'll demonstrate how to send HTTP requests and parse JSON responses using Python's 'requests' library.\n"
      ]
    },
    {
      "cell_type": "code",
      "execution_count": null,
      "metadata": {
        "id": "Yu1kMN1KWQBm"
      },
      "outputs": [],
      "source": [
        "\n",
        "# Define the API endpoint URL.\n",
        "placeholder_endpoint_url = \"https://jsonplaceholder.typicode.com/posts/1\" # the url of your backend or service you're using\n",
        "\n",
        "# Make an HTTP GET request to the API endpoint.\n",
        "response = requests.get(placeholder_endpoint_url)\n",
        "\n",
        "response_code = response.status_code\n",
        "# Check the response status code to ensure the request was successful (200 indicates success).\n",
        "if(response_code == 200):\n",
        "    # Parse the JSON response into a Python dictionary.\n",
        "    data = response.json()\n",
        "    # Print the retrieved data.\n",
        "    print(data)\n",
        "# If the request was not successful, print an error message with the status code.\n",
        "else:\n",
        "   print(f\"API Request Failed with Status Code: {response.status_code}\")\n"
      ]
    },
    {
      "cell_type": "markdown",
      "metadata": {
        "id": "I4OQOpp6XZmq"
      },
      "source": [
        "# Exploring a Public API\n",
        "\n",
        "In this section, we will explore how to interact with public APIs to retrieve data. We'll use two public APIs as examples: a free weather API and the OMDB (Open Movie Database) API. These APIs are publicly accessible and do not require authentication.\n",
        "\n",
        "## Public Weather API Example\n",
        "\n",
        "**API Endpoint:** [OpenWeatherMap API](https://www.visualcrossing.com/)\n",
        "\n",
        "- **Purpose:** To retrieve weather data for a specified location.\n",
        "\n",
        "- **Endpoint URL:** `https://weather.visualcrossing.com/VisualCrossingWebServices/rest/services/timeline/[location]/[date1]/[date2]?key=YOUR_API_KEY `\n",
        "\n",
        "- **Sample Request Parameters:**\n",
        "  - `location`: Location (e.g., city name, zip code).\n",
        "  - `datei`: yyyy-mm-dd format datetime.\n",
        "  - `key`: API key (sign up on the visualcrossing website to obtain a free key).\n",
        "\n",
        "We will demonstrate how to send a GET request to the OpenWeatherMap API, retrieve weather data for a specific location, and handle the response.\n",
        "\n",
        "## OMDB API Example\n",
        "\n",
        "**API Endpoint:** [OMDB API](https://www.omdbapi.com/)\n",
        "\n",
        "- **Purpose:** To search for movie and TV show information.\n",
        "\n",
        "- **Endpoint URL:** `https://www.omdbapi.com/?t=[movie_name]&apikey=[key]`\n",
        "\n",
        "- **Sample Request Parameters:**\n",
        "  - `t`: Title of the movie or TV show.\n",
        "  - `apikey`: API key (sign up on the OMDB website to obtain a free key).\n",
        "\n",
        "We will show how to send a GET request to the OMDB API to search for information about a movie or TV show, and how to process the response.\n",
        "\n",
        "In the following code blocks, we'll walk through each API example step by step, making requests, handling responses, and exploring the data retrieved. This hands-on experience will give you a practical understanding of how to work with public APIs for various purposes.\n"
      ]
    },
    {
      "cell_type": "code",
      "execution_count": null,
      "metadata": {
        "id": "fXealxkSI9bk"
      },
      "outputs": [],
      "source": [
        "# In this step, you can set your API key as a variable.\n",
        "# Replace 'YOUR_API_KEY' with your actual API key when working on real projects.\n",
        "\n",
        "omdb_api_key = 'YOUR_API_KEY'\n",
        "weather_api_key =  'YOUR_API_KEY'"
      ]
    },
    {
      "cell_type": "code",
      "execution_count": null,
      "metadata": {
        "id": "GJ8TZ5bZXfXG"
      },
      "outputs": [],
      "source": [
        "location = \"Munich, Germany\"\n",
        "\n",
        "# Define the API endpoint URL for OpenWeatherMap.\n",
        "api_url = f\"https://weather.visualcrossing.com/VisualCrossingWebServices/rest/services/timeline/{location}?key={weather_api_key}\"\n",
        "\n",
        "\n",
        "# Make an HTTP GET request to the OpenWeatherMap API.\n",
        "response = requests.get(api_url)\n",
        "\n",
        "# Check the response status code.\n",
        "if response.status_code == 200:\n",
        "    # Parse the JSON response into a Python dictionary.\n",
        "    data = response.json()\n",
        "\n",
        "    # Print the retrieved weather data.\n",
        "    print(\"weather API Response:\")\n",
        "    print(data)\n",
        "else:\n",
        "    # Print an error message with the status code if the request fails.\n",
        "    print(f\"API Request Failed with Status Code: {response.status_code}\")\n"
      ]
    },
    {
      "cell_type": "code",
      "execution_count": null,
      "metadata": {
        "id": "t24SmwAiXu9_"
      },
      "outputs": [],
      "source": [
        "# Define the API endpoint URL for OMDB.\n",
        "api_url = \"https://www.omdbapi.com/\"\n",
        "\n",
        "\n",
        "# Create a dictionary of request parameters.\n",
        "params = {\n",
        "    \"t\": \"Shrek\",\n",
        "    \"apikey\": omdb_api_key\n",
        "}\n",
        "\n",
        "# Make an HTTP GET request to the OMDB API.\n",
        "response = requests.get(api_url, params=params)\n",
        "\n",
        "# Check the response status code.\n",
        "if response.status_code == 200:\n",
        "    # Parse the JSON response into a Python dictionary.\n",
        "    data = response.json()\n",
        "\n",
        "    # Print the retrieved movie or TV show information.\n",
        "    print(\"OMDB API Response:\")\n",
        "    print(data)\n",
        "else:\n",
        "    # Print an error message with the status code if the request fails.\n",
        "    print(f\"API Request Failed with Status Code: {response.status_code}\")"
      ]
    },
    {
      "cell_type": "markdown",
      "metadata": {
        "id": "lzZmTF8iHAHV"
      },
      "source": [
        "But APIs can retrieve more than just json files and text\n",
        "We can also use it to retrieve images.\n",
        "\n",
        "Let's take a look at the NASA Astronomy Picture of the Day\n",
        "\n",
        "To generate your own API key go to https://api.nasa.gov/"
      ]
    },
    {
      "cell_type": "code",
      "execution_count": null,
      "metadata": {
        "id": "HIQbpCLUHQeR"
      },
      "outputs": [],
      "source": [
        "# We're going to need some extra libraries\n",
        "import matplotlib.pyplot as plt # visualization\n",
        "from PIL import Image # image loading\n",
        "from io import BytesIO # converts the retrieved data to the image\n",
        "\n",
        "# Step 1: Get your API key from NASA's APOD API\n",
        "nasa_api_key = 'YOUR_NASA_API_KEY'  # Replace 'YOUR_NASA_API_KEY' with your actual API key\n",
        "\n",
        "# Step 2: Fetch data from the APOD API\n",
        "url = f'https://api.nasa.gov/planetary/apod?api_key={nasa_api_key}'\n",
        "response = requests.get(url)\n",
        "\n",
        "# Check if the request was successful\n",
        "if response.status_code == 200:\n",
        "    data = response.json()\n",
        "    # Extract the URL of the image\n",
        "    image_url = data['url']\n",
        "    title = data['title']\n",
        "    explanation = data['explanation']\n",
        "\n",
        "    # Step 3: Fetch and display the image\n",
        "    image_response = requests.get(image_url)\n",
        "    img = Image.open(BytesIO(image_response.content))\n",
        "\n",
        "    # Display the image using matplotlib\n",
        "    plt.figure(figsize=(10, 10))\n",
        "    plt.imshow(img)\n",
        "    plt.axis('off')\n",
        "    plt.title(title)\n",
        "    plt.show()\n",
        "\n",
        "    # Print the explanation of the picture\n",
        "    print(f\"Title: {title}\")\n",
        "    print(f\"Explanation: {explanation}\")\n",
        "\n",
        "else:\n",
        "    print(\"Failed to retrieve data from NASA APOD API\")"
      ]
    },
    {
      "cell_type": "markdown",
      "metadata": {
        "id": "zSzIgzDfKv93"
      },
      "source": [
        "# Section 3\n",
        "\n",
        "## Web Scraping\n",
        "Not every website offers you an API to use, there might be a need to also get all text/info from the webpage\n",
        "\n",
        "In this section, we will explore how to read some information through web scraping.\n",
        "\n",
        "Note, not every website allows you to scrape data from it"
      ]
    },
    {
      "cell_type": "code",
      "execution_count": null,
      "metadata": {
        "id": "12WlAO3JKvYG"
      },
      "outputs": [],
      "source": [
        "from bs4 import BeautifulSoup\n",
        "import requests\n",
        "\n",
        "scrape_url = '' # could be any url or link, for example https://en.wikipedia.org/wiki/Web_scraping (be careful some websites don't allow scraping)\n",
        "\n",
        "response = requests.get(scrape_url)\n",
        "\n",
        "# Check the response status code.\n",
        "if(response.status_code == 200):\n",
        "      # Parse the HTML content of the webpage using beautiful soup\n",
        "      soup = BeautifulSoup(response.content, 'html.parser')\n",
        "      # get all text content from the website\n",
        "      # We will extract the text within the <p> tags which usually contains the main content\n",
        "      text_content = ''\n",
        "      for paragraph in soup.find_all('p'):\n",
        "          text_content += paragraph.get_text()\n",
        "      # print the text output\n",
        "      print(text_content)"
      ]
    },
    {
      "cell_type": "markdown",
      "metadata": {
        "id": "-TIXjTpDYMM2"
      },
      "source": [
        "# Using the OpenAI GPT API\n",
        "\n",
        "In this section, we will explore how to utilize the OpenAI GPT (Generative Pre-trained Transformer) API. GPT models are powerful language models that can generate human-like text based on the input you provide. OpenAI offers a user-friendly API that allows developers to integrate GPT into various applications and projects.\n",
        "\n",
        "## What is OpenAI GPT?\n",
        "\n",
        "OpenAI GPT is a state-of-the-art natural language processing model. It can be used for a wide range of language tasks, such as text generation, language translation, question answering, and more. GPT models are pre-trained on vast amounts of text data and can be fine-tuned for specific tasks.\n",
        "\n",
        "## How to Get OpenAI GPT API Keys\n",
        "\n",
        "To use the OpenAI GPT API, you need to obtain API keys. Here's how you can get them:\n",
        "\n",
        "1. **Sign Up**: Visit the OpenAI website (https://openai.com) and sign up for an account if you haven't already.\n",
        "\n",
        "2. **Access API**: Once you have an account, navigate to the OpenAI API section to access the API.\n",
        "\n",
        "3. **Generate API Key**: Create an API key to authenticate your requests. Keep this key secure, as it grants access to the API.\n",
        "\n",
        "## Making Requests to the OpenAI GPT API\n",
        "\n",
        "To make requests to the OpenAI GPT API, you need to use your API key. In the code examples, you will see how to use this key to send text prompts to the API and retrieve generated responses.\n",
        "\n",
        "We'll also explore some best practices and considerations for working with the OpenAI GPT API, such as handling rate limits and managing tokens.\n",
        "\n",
        "In the following code block, we'll walk through an example of using the OpenAI GPT API to generate text based on a prompt. This hands-on experience will give you practical insight into leveraging GPT models for text generation.\n"
      ]
    },
    {
      "cell_type": "code",
      "execution_count": null,
      "metadata": {
        "id": "e-lelNT1Yblz"
      },
      "outputs": [],
      "source": [
        "# openai is a library that isn't installed by default on colab. So we need to install it. ! usually tells colab that its a system call followed by a command prompt. In this case its pip (python package manager) install\n",
        "!pip install openai\n"
      ]
    },
    {
      "cell_type": "code",
      "execution_count": null,
      "metadata": {
        "id": "OPat5hhDYP1g"
      },
      "outputs": [],
      "source": [
        "# Replace 'YOUR_API_KEY' with your actual OpenAI GPT API key.\n",
        "api_key = \"YOUR_API_KEY\"\n",
        "\n",
        "# Set the OpenAI GPT model you want to use (e.g., 'text-davinci-002').\n",
        "gpt_model = \"gpt-3.5-turbo\" # one of the following [\"text-davinci-002\", \"curie\", \"babbage\", \"gpt-3.5-turbo\"] (be careful some could be deprecated)\n",
        "\n",
        "# Specify the number of tokens to generate (don't go too crazy).\n",
        "max_tokens = 100\n",
        "\n"
      ]
    },
    {
      "cell_type": "code",
      "execution_count": null,
      "metadata": {
        "id": "x7xAfqca_3OG"
      },
      "outputs": [],
      "source": [
        "import openai\n",
        "from openai import OpenAI\n",
        "\n",
        "# Initialize the OpenAI API client with your API key.\n",
        "openai.api_key = api_key\n",
        "\n",
        "client = OpenAI(\n",
        "    api_key=api_key,\n",
        ")"
      ]
    },
    {
      "cell_type": "code",
      "execution_count": null,
      "metadata": {
        "id": "VXO9FkKFFSay"
      },
      "outputs": [],
      "source": [
        "# Set the text prompt to generate content.\n",
        "prompt = \"Once upon a time,\"\n",
        "\n",
        "# Make a request to the OpenAI GPT API to generate text based on the prompt.\n",
        "response = client.chat.completions.create(\n",
        "    model=gpt_model,\n",
        "    max_tokens=max_tokens,\n",
        "\n",
        "    messages=[\n",
        "        {\n",
        "            \"role\": \"user\",\n",
        "            \"content\": prompt,\n",
        "        }\n",
        "    ],\n",
        ")\n",
        "\n",
        "# Retrieve and print the generated text.\n",
        "generated_text = response.choices[0].message.content\n",
        "print(\"Generated Text:\")\n",
        "print(generated_text)\n"
      ]
    },
    {
      "cell_type": "markdown",
      "metadata": {
        "id": "27mHxwG3ZMRd"
      },
      "source": [
        "# Conclusion\n",
        "\n",
        "In this workshop, we've explored the exciting world of APIs and how they play a crucial role in modern software development. We've covered the basics of API concepts, use cases, and practical examples to give you a solid foundation in working with APIs.\n",
        "\n",
        "From understanding monolithic applications to exploring public APIs like OpenWeatherMap and OMDB, we've seen how APIs are used to retrieve data and perform various tasks. We've also delved into the OpenAI GPT API, a powerful tool for generating human-like text and responses.\n",
        "\n",
        "APIs are a vital part of the technology landscape, enabling seamless integration, data exchange, and automation. As you continue your journey in software development, APIs will be valuable tools at your disposal.\n",
        "\n",
        "We encourage you to explore and experiment with different APIs, create your own, and leverage them to build innovative solutions. Whether you're developing web applications, automating tasks, or generating text, APIs are your gateway to a world of possibilities.\n",
        "\n",
        "Thank you for participating in this workshop, and we hope you've gained valuable insights into the fascinating realm of APIs. If you have any questions or need further assistance, feel free to reach out for guidance and support.\n",
        "\n",
        "Happy coding, and may your API adventures lead to new heights in your software development journey!\n",
        "\n",
        "\n"
      ]
    }
  ],
  "metadata": {
    "colab": {
      "provenance": []
    },
    "kernelspec": {
      "display_name": "Python 3",
      "name": "python3"
    },
    "language_info": {
      "name": "python"
    }
  },
  "nbformat": 4,
  "nbformat_minor": 0
}
